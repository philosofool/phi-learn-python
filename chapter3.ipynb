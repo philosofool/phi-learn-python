{
 "cells": [
  {
   "cell_type": "markdown",
   "metadata": {},
   "source": [
    "# Lists\n",
    "\n",
    "In this chapter, you will learn about list. You will also learn about _loops_ and the special Python functions `sorted` and `len`.\n",
    "\n",
    "## Lists\n",
    "\n",
    "A list is a collection of objects. `[1, 2, 3]` is a list of integers. Lists know their order: `[3, 2, 1]` is a different list from `[1, 2, 3]`. List may contain any kind of data and you can mix that data in anyway you like: `['spiderman', 'cap', 'hulk']` is a list. `[3.1415, 'pi']` is a list. You can even make a list whose members are lists: `[[Luke, Han, Leia], ['Spiderman', 'Cap', 'Hulk']]` is a list of lists.\n",
    "\n",
    "Each position in a list is numbered and you can get a member by _indexing_ list this: `['Spiderman', 'Cap', 'Hulk'][0]`. This works on varaibles that are lists too. Try it:"
   ]
  },
  {
   "cell_type": "code",
   "execution_count": null,
   "metadata": {},
   "outputs": [],
   "source": [
    "avengers = ['Spiderman', 'Cap', 'Hulk']\n",
    "# get the first member of avengers by indexing it.\n",
    "# don't forget that the first member is 0, not 1.\n",
    "avengers\n",
    "# it might be worth seeing what happens when you try to get member number 12 too."
   ]
  },
  {
   "cell_type": "markdown",
   "metadata": {},
   "source": [
    "You can join two lists with `+`; this creates a new list with all the members of each, in the order you joined them. Let's fix our too-short avengers list. Add Black Panther and Black Widow to our Avengers list in the cell below:"
   ]
  },
  {
   "cell_type": "code",
   "execution_count": null,
   "metadata": {},
   "outputs": [],
   "source": [
    "avengers = avengers + # join another list and assign the new list to `avengers`. \n",
    "print(avengers)"
   ]
  },
  {
   "cell_type": "markdown",
   "metadata": {},
   "source": [
    "If you put a negative number in a list, it starts from the last member and moves toward the first. `avengers[-1]` gets you the last member of the list, and -3 would get you the third from the last member.\n",
    "\n",
    "You can also get a _range_ of members of list by using a `:` to specify the first and last members you want, for example `avengers[2:4]` will leave out members 0 and 1 from the list `avengers`. However, the last number in the slice is _not included_. A slice says \"start with this number and get up to but don't include the last number.\" You can use negative indexes in slices too: `avengers[-3:-1]` gets from the last to the third to the last. Finally, you can get can create a slice like this `avengers[2:]` to start with index 2 and get the rest of the members.  \n"
   ]
  },
  {
   "cell_type": "code",
   "execution_count": 8,
   "metadata": {},
   "outputs": [
    {
     "data": {
      "text/plain": [
       "['Hulk', 'Black Widow']"
      ]
     },
     "execution_count": 8,
     "metadata": {},
     "output_type": "execute_result"
    }
   ],
   "source": [
    "avengers[2:4]"
   ]
  },
  {
   "cell_type": "markdown",
   "metadata": {},
   "source": [
    "Huh!?! You are probably wondering why the an slice doesn't include all the indexes in it. That's common in computers. Here's one reason why. Suppose you wanted to join two lists with a variable, `n` that is an integer. (You can use variables in slices.) Then we might do something like this:\n",
    "```\n",
    "n = 3\n",
    "avengers[:n] + avengers[n:]\n",
    "```\n",
    "If slice indexes included their last members, then this list would include member 3 two times! "
   ]
  },
  {
   "cell_type": "markdown",
   "metadata": {},
   "source": [
    "## Sorting and functions\n",
    "\n",
    "Lists have an order. Sometimes, we want to sort a list. Python has a built in function called `sorted` that creates a sorted version of a list. TO sort a list, we \"pass\" the list to the function like this:"
   ]
  },
  {
   "cell_type": "code",
   "execution_count": 28,
   "metadata": {},
   "outputs": [
    {
     "data": {
      "text/plain": [
       "[1, 2, 3, 4, 5]"
      ]
     },
     "execution_count": 28,
     "metadata": {},
     "output_type": "execute_result"
    }
   ],
   "source": [
    "sorted([3, 5, 1, 4, 2])"
   ]
  },
  {
   "cell_type": "markdown",
   "metadata": {},
   "source": [
    "When a list is sorted, it sorts numbers smallest to largest and strings in alphabetical order. You can't sort a list that includes both strings and numbers because Python doesn't know whether 'Hulk' is greater than 0. \n",
    "\n",
    "_Functions_ are an important group of things in Python. Unlike strings, numbers and lists, functions aren't a kind of data. Rather, functions tell a computer to do something. You have already learned about two functions, `print` and `input`. `sorted` is another example of a function. Since `sorted` takes some data and gives new data based on the data it was given, it's a little more like a typical function. Most functions do something like that: they give new data based on the data they are given. \n",
    "\n",
    "Functions in Python often take _arguments_. Arguments are the data that the function works on. In `sorted([2, 1])`, the `()` hold the argument, which is a list `[2, 1]`. Some functions take more than one argument, like `sum`, which can take two numbers and add them, like `sum(2, 2)`."
   ]
  },
  {
   "cell_type": "code",
   "execution_count": null,
   "metadata": {},
   "outputs": [],
   "source": [
    "# Practice by sorting the list `avengers`\n"
   ]
  },
  {
   "cell_type": "markdown",
   "metadata": {},
   "source": [
    "Another Python function is `len`. `len` tells you how long a Python object is. Try calling `len` on a list, a string and a number below:"
   ]
  },
  {
   "cell_type": "code",
   "execution_count": null,
   "metadata": {},
   "outputs": [],
   "source": [
    "# call len on a list, a sting and a number. \n"
   ]
  },
  {
   "cell_type": "markdown",
   "metadata": {},
   "source": [
    "## Adding to lists, and methods"
   ]
  },
  {
   "cell_type": "markdown",
   "metadata": {},
   "source": [
    "\n",
    "You can add a new object to the end of a list with `append`.  See the example in the next cell. "
   ]
  },
  {
   "cell_type": "code",
   "execution_count": null,
   "metadata": {},
   "outputs": [],
   "source": [
    "avengers.append('Batman')\n",
    "avengers"
   ]
  },
  {
   "cell_type": "markdown",
   "metadata": {},
   "source": [
    "`append` is a new kind of Python function called a _method_. Methods belong to objects and we \"call\" a method on an object by using typing a `.` and the method name with no space after the period, then parenthesis and additional information that python needs, like `avengers.append('Thor')`. \n",
    "\n",
    "By the way, `append` changes the list by adding to it. `sorted` doesn't actually change as list, it creates a new list. Notice that although we `sorted` `avengers` a above, it is in it's original order. This is handy if we want to know what the smallest member of a list is without changing it. For example, we might make a list of Avengers in order of when they joined the team. If we want to know the order, alphabetically, we probably don't want to destroy information about the order they joined in when we do that. `sorted` doesn't change our list so it won't destroy that information!"
   ]
  },
  {
   "cell_type": "markdown",
   "metadata": {},
   "source": [
    "## Remove\n",
    "\n",
    "If you want to remove a member from a list, the method `remove` will remove the first member of a list that matches the input to remove. See if you can figure out how to remove `Batman` from Avengers!"
   ]
  },
  {
   "cell_type": "code",
   "execution_count": null,
   "metadata": {},
   "outputs": [],
   "source": [
    "# remove 'Batman' from avengers."
   ]
  },
  {
   "cell_type": "markdown",
   "metadata": {},
   "source": [
    "## Loops\n",
    "\n",
    "Now it's time to learn about another way to work with data, similar to `if/else`. It's called a 'for loop'. A for loop goes through a list and does something with each member. Let's look at an example:"
   ]
  },
  {
   "cell_type": "code",
   "execution_count": null,
   "metadata": {},
   "outputs": [],
   "source": [
    "# read this code and see if you can guess what it does.\n",
    "# then run the cell and see what happens.\n",
    "for avenger in avengers:\n",
    "    print(avenger + ' assemble!')"
   ]
  },
  {
   "cell_type": "markdown",
   "metadata": {},
   "source": [
    "A for loop begins with `for`. The next component, `avenger` is special variable that is created when the for loop starts. `in` tells the loop what list to look in. `avengers` is our now familiar list of heros. The `:` starts the loop.\n",
    "\n",
    "Once the loop starts, all the indented code in the block runs. Then the loop starts again, using the next member of the list `avengers`. Each time the code runs, the special variable `avenger` has a new value, the value of the member of `avengers` that it's working with. \n",
    "\n",
    "Practice by creating a for loop that goes through the list of numbers from 1 to 10 and prints the number times itself."
   ]
  },
  {
   "cell_type": "code",
   "execution_count": null,
   "metadata": {},
   "outputs": [],
   "source": [
    "# Loop through the list of numbers, 1-10 and print the number times itself on each pass of the loop."
   ]
  },
  {
   "cell_type": "markdown",
   "metadata": {},
   "source": [
    "## Project One\n",
    "\n",
    "Write code that loops through the list of Avengers. On each pass, it should ask the user if that is their favorite Avenger. If the use enters 'yes' the code should say 'Me too!'. If the user does not say 'yes', it should keep going."
   ]
  },
  {
   "cell_type": "code",
   "execution_count": null,
   "metadata": {},
   "outputs": [],
   "source": []
  },
  {
   "cell_type": "markdown",
   "metadata": {},
   "source": [
    "## Project Two\n",
    "\n",
    "Modify your code above. If the user enter 'Yes' or 'yes' it should work the same way as if they entered `\"yes\"` in the above. Also, instead of saying \"Me too!\" have the code print like \"Spiderman is my favorite Avenger too!\""
   ]
  }
 ],
 "metadata": {
  "interpreter": {
   "hash": "8237c846a55f6f1d281de78ecb8e50b9c8f49975088ff08d4c8243d61ebf94af"
  },
  "kernelspec": {
   "display_name": "Python 3.9.7 ('base')",
   "language": "python",
   "name": "python3"
  },
  "language_info": {
   "codemirror_mode": {
    "name": "ipython",
    "version": 3
   },
   "file_extension": ".py",
   "mimetype": "text/x-python",
   "name": "python",
   "nbconvert_exporter": "python",
   "pygments_lexer": "ipython3",
   "version": "3.9.7"
  },
  "orig_nbformat": 4
 },
 "nbformat": 4,
 "nbformat_minor": 2
}
