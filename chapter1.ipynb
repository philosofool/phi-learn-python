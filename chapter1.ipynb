{
 "cells": [
  {
   "cell_type": "markdown",
   "metadata": {},
   "source": [
    "# Learn to Code with Python\n",
    "\n",
    "## Chapter 1\n",
    "\n",
    "The basics.\n",
    "\n",
    "You will learn the basics of Python by following along in this _Jupyter Notebook_. Here's a thing you should know before you begin. In the text parts of the notebooks, we will use `this font` to specify what code should say exactly. If you see something\n",
    "in that text wrapped in `<>` it means that you can pick what you're putting in between the `<>`.\n",
    "\n",
    "Let's use Python to say something!\n",
    "\n",
    "Type the following text into the cell below, after all the other text:\n",
    "```\n",
    "print('Hello World!')\n",
    "```\n",
    "Then press `shift+ enter`."
   ]
  },
  {
   "cell_type": "code",
   "execution_count": null,
   "metadata": {},
   "outputs": [],
   "source": [
    "# Enter the code above to write your first script.\n",
    "# By the way, anything you type after a `#` in Python is a comment.\n",
    "# Python ignores comments when doing your code.\n",
    "# Enter the code above to write your first script:\n",
    "print ('\"Hello World!\"')\n"
   ]
  },
  {
   "cell_type": "markdown",
   "metadata": {},
   "source": [
    "If you followed the directions correctly, `Hello World!` printed at the bottom of the cell! Let's look at this code a little more.\n",
    "The first part, `print` is a command in Python. `print` tells Python to print something. Python has a lot of useful commands like `print`. After the word print, there is a `(`. This is required after print, and everything in between the `()` is printed. Inside the `()` we have `'Hello World'`, which is what got printed.  `'Hello World'` is a string, which is a fancy way to say that it's printable letters and numbers. Strings are one type of data that Python works with. You will learn about other data types soon too.\n",
    "\n",
    "When Python encounters a `'` or `\"` it reads everything after that, until the next `'` or `\"` as a string. The quotation marks are not part of the string. If you want to add quotation marks into a string, you can start a string with `'` and use `\"` inside (or vice-versa), like this: `\"let's go!\"`. Try printing something with an `'` in it, below. `print(<something with a ' in it>)`. This is practice using the `print` command and practice attention to detail.\n",
    "\n",
    "Tip: if you are double checking your work and you are getting an output that says you're doing something wrong, skip to the next tutorial cell."
   ]
  },
  {
   "cell_type": "code",
   "execution_count": null,
   "metadata": {},
   "outputs": [],
   "source": [
    "# use `print` to print something with a `'` in it."
   ]
  },
  {
   "cell_type": "code",
   "execution_count": null,
   "metadata": {},
   "outputs": [],
   "source": [
    "# use print to print something with a `\"` in it.\n",
    "print('he said \"im happy\"')"
   ]
  },
  {
   "cell_type": "markdown",
   "metadata": {},
   "source": [
    "## Errors\n",
    "\n",
    "Hopeful everything went right above, but you might have encountered an error if you made a mistake. If you did, don't worry. Mistakes are 100% a part of writing code. People who write code professionally can tell you that they spend a lot of time correcting their mistakes. Before we move on, it's a good idea to know about _errors_ and _error messages_. An error is something that occurs in code that prevents it from running. An _error message_ is what Python tells you when it encounters an error.\n",
    "\n",
    "Let's intentionally create an error! Enter the following, and make sure you punctuate correctly, into the next cell:\n",
    "```\n",
    "'He said \"Don't worry about mistakes!\"'\n",
    "```\n",
    "Then press `Shift + Enter` and move on to the next tutorial cell. "
   ]
  },
  {
   "cell_type": "code",
   "execution_count": null,
   "metadata": {},
   "outputs": [],
   "source": [
    "# Enter that and see what happens.\n",
    "'He said \"Don't worry about mistakes!\"'"
   ]
  },
  {
   "cell_type": "markdown",
   "metadata": {},
   "source": [
    "The result above is an error. It looks a lot like this:\n",
    "```\n",
    "  File \"C:\\Users\\lenha\\AppData\\Local\\Temp/ipykernel_11992/3418912089.py\", line 2\n",
    "    'He said \"Don't worry about mistakes!\"'\n",
    "                  ^\n",
    "SyntaxError: invalid syntax\n",
    "```\n",
    "Your first line will be different, but after that, the message is describing a _syntax error_. A syntax error is an error that makes python incapable of processing your code. (If the other lines don't match closely, it's probably because of the version of Python you are using. Don't worry too much about that.) Read the message careful before you move on and see if you can figure out the problem.\n",
    "\n",
    "Did you figure it out? In a nutshell: everything after the second `'` is stuff that Python thinks is code because the second `'` ends the string. If you try to mix lots of `\"` and `'` together this will probably happen. If you forget a parenthesis, have a punctuation mark in the wrong place or something like that, you are likely to see a `SyntaxError`.\n",
    "\n",
    "To learn a little more about errors, run the following cell and check the output:"
   ]
  },
  {
   "cell_type": "code",
   "execution_count": null,
   "metadata": {},
   "outputs": [],
   "source": [
    "# this cell will create a name error.\n",
    "print(Hello)"
   ]
  },
  {
   "cell_type": "markdown",
   "metadata": {},
   "source": [
    "`NameError`! This means you told Python to do something with a word that isn't defined. In particular, `Hello` is not a string, because it doesn't have any quote marks. So when you tell it to print `Hello`, it can't read a string. We will learn more about what Python thinks `Hello` is later.\n",
    "\n",
    "For now, you should know that there's an extra way to tell Python about a string and read it that can avoid these errors, `\"\"\"` and `'''` are both ways to start and end a string. Python reads these literally and unless you have a triple quote in the text unintentionally, you will have no problems. Add the sentence `He said \"Don't worry about mistakes!\"` in triple `'` quotes below to check it out."
   ]
  },
  {
   "cell_type": "markdown",
   "metadata": {},
   "source": [
    "## Variables\n",
    "\n",
    "_Variables_ are like names for some data. Let's see how they work a little before moving on. Replace `<your name>` with a string of your name below, then press `Shift + Enter` to run the cell: "
   ]
  },
  {
   "cell_type": "code",
   "execution_count": null,
   "metadata": {},
   "outputs": [],
   "source": [
    "name = '<your name>'\n",
    "print(name)"
   ]
  },
  {
   "cell_type": "markdown",
   "metadata": {},
   "source": [
    "Above, `name` is a variable. It stores whatever you tell it after the equals sign. Any time Python sees `name` in the code, it finds whatever data you put in `name` most recently and uses that in your code. Just as if you had literally added the very same thing. \n",
    "\n",
    "What are variables for?\n",
    "- Variables are handy when we want to write code to do something with data but don't know what the data is before hand. \n",
    "- Variables are handy when we want to do the same thing to different data over and over. \n",
    "- They are also handy when we want to reuse the same data over and over without having to re-type the data. You could load a very long string (like a chapter of a book) into a variable called `chapter` and then repeat the chapter without actually having to type it. \n",
    "\n",
    "Let's add these ideas with some additional stuff about strings: you can combine two strings with the plus sign, `+`. Follow the instructions in the comments below to investigate variables a little more. Here's what you're going to do:\n",
    "1. Step zero: read all these steps before you do anything. Don't DO any of the steps until you reach the instruction \"now do all these steps, in order.\"\n",
    "1. Step one: try to predict what will happen when you follow all these steps (you will need to read the steps first, of course.)\n",
    "1. Step two: Run the cell below by pressing `Shift + Enter`.\n",
    "1. Step three: go back to the cell where you typed `name = <your name>` and change that `<your name>` part to any other name you of your choice (your nickname, your pet's name, your best friend's name, etc.) \n",
    "1. Step four: run the cell above with `name = <your name>` by pressing `Shift + Enter`. If you have an error here, or in any other step, stop and re-do until you get a result without an error. You may need to go back to a previous step and fix something too.\n",
    "1. Step five: Run the cell below again.\n",
    "1. Now do all of these steps, in order."
   ]
  },
  {
   "cell_type": "code",
   "execution_count": null,
   "metadata": {},
   "outputs": [],
   "source": [
    "print(\"Hello \" + name)"
   ]
  },
  {
   "cell_type": "markdown",
   "metadata": {},
   "source": [
    "The results of following these step should have then this:\n",
    "1. You read all the instructions.\n",
    "1. You made a prediction about what would  happen. (By the way, learning to predict code is a big part of learning to write code. When you predict what will happen before you run code, you are learning to write code _even if your prediction is a mistake. Remember about mistakes being a part of the process? `:-)`)\n",
    "1. The cell printed `Hello Mary` if name was `Mary` and if it was something else, it printed that instead of `Mary.`\n",
    "1. You entered a new value where your name was before.\n",
    "1. The new value of `name` was printed beneath the cell above.\n",
    "1. The cell printed `Hello Larry` if you changed the name to `Larry` and if you changed it to something else, it printed that instead of `Larry`."
   ]
  },
  {
   "cell_type": "markdown",
   "metadata": {},
   "source": [
    "## Input\n",
    "\n",
    "What if we want to add data to Python ourselves? One way to do this is to read a file on your computer, which we will cover later. Another way to do it is with a new command, `input`. `input` works like `print`: you follow the command with parenthesis. You don't need to give input anything in the parenthesis. Instead, when Python encounters input, it will wait for the user to give it an input. Pressing `Enter` ends the input.\n",
    "\n",
    "Add `input()` to the cell below and press `Shift + Enter`. After that, you will need to enter something in the prompt (the prompt may be at the top of your screen.)"
   ]
  },
  {
   "cell_type": "code",
   "execution_count": null,
   "metadata": {},
   "outputs": [],
   "source": [
    "input()"
   ]
  },
  {
   "cell_type": "markdown",
   "metadata": {},
   "source": [
    "Whatever you entered should be printed below the cell. `input` _returns_ whatever value you enter. If you make the value of a variable from an `input` function, then you will add that value to the variable. In this way, you can store the input and use it in your code. This is one way to make code interactive.\n",
    "\n",
    "Give it a try: run the cell below and enter something into the prompt."
   ]
  },
  {
   "cell_type": "code",
   "execution_count": null,
   "metadata": {},
   "outputs": [],
   "source": [
    "your_name = input(\"What is your name?\")\n",
    "print(\"Hello, \" + your_name) "
   ]
  },
  {
   "cell_type": "markdown",
   "metadata": {},
   "source": [
    "## Summary\n",
    "\n",
    "In this tutorial, you learned about\n",
    "* `print` and other commands.\n",
    "* _varaibles_: storing a value that can be used and reused in code.\n",
    "* input: an interactive way to get information from a user.\n",
    "* errors: when you tell Python something it doesn't understand, you will get an error. This usually means that there's a mistake in your code or something unexpected happened. "
   ]
  }
 ],
 "metadata": {
  "interpreter": {
   "hash": "02ee4401c5460a4ee3bc94108cf95546c8e39c298a8555b54bdd3e60e7d4869e"
  },
  "kernelspec": {
   "display_name": "Python 3.9.7 ('base')",
   "language": "python",
   "name": "python3"
  },
  "language_info": {
   "codemirror_mode": {
    "name": "ipython",
    "version": 3
   },
   "file_extension": ".py",
   "mimetype": "text/x-python",
   "name": "python",
   "nbconvert_exporter": "python",
   "pygments_lexer": "ipython3",
   "version": "3.9.7"
  },
  "orig_nbformat": 4
 },
 "nbformat": 4,
 "nbformat_minor": 2
}
