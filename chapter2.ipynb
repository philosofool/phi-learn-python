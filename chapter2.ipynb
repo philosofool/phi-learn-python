{
 "cells": [
  {
   "cell_type": "markdown",
   "metadata": {},
   "source": [
    "# Chapter 2: Data\n",
    "\n",
    "In this chapter, you will learn about different types of _data_ in Python. You will also combine this information from chapter 1."
   ]
  },
  {
   "cell_type": "markdown",
   "metadata": {},
   "source": [
    "## Strings\n",
    "Strings are data that is text: letters, punctuation marks, spaces, and numerals. Strings in Python are wrapped in `'` or `\"`. You actually learned a lot about strings in chapter 1.\n",
    "\n",
    "Strings can be combined using the `+` operator. This joins two strings into a single new string. This is called _concatenation_."
   ]
  },
  {
   "cell_type": "code",
   "execution_count": null,
   "metadata": {},
   "outputs": [],
   "source": [
    "# try it out. Fix up the following strings to print your whole name:\n",
    "'<first name>' + '<last_name>'"
   ]
  },
  {
   "cell_type": "markdown",
   "metadata": {},
   "source": [
    "You may have just learned that Python is _very literal_: if you didn't include a space, Python put your first name right next to your last name with no space in between. Python can concatenate more than one string at a time."
   ]
  },
  {
   "cell_type": "code",
   "execution_count": null,
   "metadata": {},
   "outputs": [],
   "source": [
    "# try it out:\n",
    "\"My \" + \"name \" + \"is \" + \"<first name>\" + ' ' + '<last_name>' + '.'"
   ]
  },
  {
   "cell_type": "markdown",
   "metadata": {},
   "source": [
    "If you want to get a new line in a string, use `\\n`. However, you need to `print` the string to see the new line. `\\n` is a special character that a print command knows how to read."
   ]
  },
  {
   "cell_type": "code",
   "execution_count": null,
   "metadata": {},
   "outputs": [],
   "source": [
    "print(\"Start here but \\nend here.\")"
   ]
  },
  {
   "cell_type": "markdown",
   "metadata": {},
   "source": [
    "`\\` is used for some special types of text data found in strings, such as `\\n`, which is a new line character. It is also an \"escape character\" which means that it tells Python to ignore a special character. Suppose you want to print the sentence `\\n is a newline character in Python.` What do you think will happen if you try to print this? "
   ]
  },
  {
   "cell_type": "code",
   "execution_count": null,
   "metadata": {},
   "outputs": [],
   "source": [
    "print(\"\\n is a newline character in Python.\")"
   ]
  },
  {
   "cell_type": "code",
   "execution_count": null,
   "metadata": {},
   "outputs": [],
   "source": [
    "print(\"\\\\n is a newline character in Python.\")"
   ]
  },
  {
   "cell_type": "markdown",
   "metadata": {},
   "source": [
    "Strings know the positions of their characters. You can get the character at a position in a string. Try out the cell below:"
   ]
  },
  {
   "cell_type": "code",
   "execution_count": null,
   "metadata": {},
   "outputs": [],
   "source": [
    "\"What do you think the 27th character in this string is?\"[27]"
   ]
  },
  {
   "cell_type": "markdown",
   "metadata": {},
   "source": [
    "`[27]` is an _index_ on the string. It finds the character in position 27. __BUT__ position 27 is not what you think. Try getting the first letter of your name by entering your name and adding an index below:"
   ]
  },
  {
   "cell_type": "code",
   "execution_count": null,
   "metadata": {},
   "outputs": [],
   "source": [
    "# add your name and get the first letter with an index:\n",
    "'<code>'"
   ]
  },
  {
   "cell_type": "markdown",
   "metadata": {},
   "source": [
    "I bet it printed the second letter of your name! You probably put something like `'Maria'[1]` and it returned `a`. Try adding the index `[0]` to the code you did above. It will give the first letter.\n",
    "\n",
    "In Python and almost all computer languages, the first thing in a sequence is 0, not 1. "
   ]
  },
  {
   "attachments": {},
   "cell_type": "markdown",
   "metadata": {},
   "source": [
    "## Numbers\n",
    "\n",
    "Python understands numbers. If Python encoutners `3.1415169` or `30` or another collection of digits, it will treat that as a number. You can also add with `+`, subtract with `-`, multiply with `*` and divide with `/` in Python. You can also do greater than `>`, less than `>`, equal to `==`, greater than or equal `>=` and less than or equal to `<=`. Try it in the cell below.\n",
    "\n",
    "Don't forget that `=` assigns a value to a variable, it's not a match operator. `==` is the match operator in Python. `==` works on most Python entities to tell you if they have the same value. `Kenobi == Kenobi` works. So does `'Kenobi' == 'Kenobi'` or `Kenobi == 'Kenobi'`.\n",
    "\n",
    "Quiz yourself: \n",
    "> For each of the above statements with some variant of `Kenobi` matches, which are always true, which are sometimes true and which are always False? (Try to answer. The solutions are below.)\n"
   ]
  },
  {
   "cell_type": "code",
   "execution_count": null,
   "metadata": {},
   "outputs": [],
   "source": [
    "# Try some math and compare some numbers.\n"
   ]
  },
  {
   "cell_type": "markdown",
   "metadata": {},
   "source": [
    "If you put quotes around digits, like `\"3.14\"` Python will treat this as a string. \n",
    "\n",
    "There are actually two kinds of numbers in python, _integers_ and _floats_. Integers are numbers like 1, 0, -57 and 1000000: any number without a decimal part. If it has a decimal part, like .1, or 3.1415169 it is a float. \n",
    "\n",
    "You can't put a comma in a Python number (`SyntaxError`) but you can add an underscore `_` to make things more readable. `1_000_000` is one million."
   ]
  },
  {
   "cell_type": "markdown",
   "metadata": {},
   "source": [
    "## True and False\n",
    "\n",
    "Python has the values `True` and `False` as well. These are values that say whether something is true. If you enter `100 == 1` you get a `False` because this is not a true statement. If you do `100 > 1` you get `True`. Python also allows you to combine statements (or Boolean values) with special key words `and`, `or` and `not`."
   ]
  },
  {
   "cell_type": "code",
   "execution_count": null,
   "metadata": {},
   "outputs": [],
   "source": [
    "# Check it out:\n",
    "not 100 < 1"
   ]
  },
  {
   "cell_type": "code",
   "execution_count": null,
   "metadata": {},
   "outputs": [],
   "source": [
    "# also practice with `and` and `or``\n",
    "\n",
    "100 > 1_000 or 1 < 2"
   ]
  },
  {
   "attachments": {},
   "cell_type": "markdown",
   "metadata": {},
   "source": [
    "In addition to `True` and `False`, Python has a special value called `None`. `None` means sort of like \"nothing\" in code. `None` is sometimes used when there is no value associated with something. For example, if someone doesn't have a pet, we might store the pet's name like this `pet = None`. Then, in our code, we can handle special cases where something isn't defined or doesn't exist. `None` is also used when we want to create a variable without giving it a value.  \n",
    "\n",
    "Many values in Python can be treated as boolean values in a context. A string is considered `True` if it's not empty; `\"\"` is a string with no characters, called \"empty\" and is False. `0` and `0.0` are also False. All other numbers (positive and negative) are True. `None` is always considered `False`."
   ]
  },
  {
   "cell_type": "markdown",
   "metadata": {},
   "source": [
    "## If...\n",
    "\n",
    "Now it is time to learn your first way to make a computer respond to data: if/then. An `if` statement in Python tells Python to do something when something it true. Take a look at the following example:"
   ]
  },
  {
   "cell_type": "code",
   "execution_count": null,
   "metadata": {},
   "outputs": [],
   "source": [
    "if 100 > 1:\n",
    "    print(\"One hundred is greater than one.\")\n",
    "else:\n",
    "    print(\"Nu uhh!\")"
   ]
  },
  {
   "cell_type": "markdown",
   "metadata": {},
   "source": [
    "### Code Blocks and Indentation\n",
    "\n",
    "Python uses indentation to create \"blocks\" of code. We use four spaces to indent, so the indents are easy to see. The `Tab` key on your computer will also create four spaces as a shortcut, so you don't have to hit space four times. \n",
    "\n",
    "Code blocks in Python start with a `:`, like `if 2 > 1:`. A code block has one or more line of code that are indented. All of this will happen if the statement is true.When indentation moves out, the code blockends. This is code that is executed no matter what. Above, the `else:` starts a new code block. This code will happen when the `if` statement is false but not when it is True. Check out the following to see what happens with some indenting:"
   ]
  },
  {
   "cell_type": "code",
   "execution_count": null,
   "metadata": {},
   "outputs": [],
   "source": [
    "pet = input(\"What's your pet's name?\")\n",
    "if not pet == '':\n",
    "    print(\"I bet \" + pet + ' is cute.' )\n",
    "print(\"My pet's name is Ody!\")"
   ]
  },
  {
   "attachments": {},
   "cell_type": "markdown",
   "metadata": {},
   "source": [
    "Try to explain in your own words what happens on each like of the above code. Then checkout the summary below.\n",
    "\n",
    "- Line one asks for an input and assigns the value to the variable `pet`.\n",
    "- Line two checks if there was an input (if you just hit `enter` when asked for input, the input is recorded as an empty string, `''`.)\n",
    "- Line three runs _if_ there was an input and prints a string using the pet variable. If we're being technical, it _concatenates_ three strings, one of which is stored as the `pet` variable.\n",
    "- Line four runs no matter what and prints another string.\n",
    "\n",
    "### Blocks in blocks\n",
    "\n",
    "You can create blocks inside blocks too. A second block is indented 8 spaces (2 tabs) and when you move out 4 spaces, you are inside the first block. You can also move outside 8 spaces and leave both blocks:\n"
   ]
  },
  {
   "cell_type": "markdown",
   "metadata": {},
   "source": [
    "## First Project\n",
    "\n",
    "For your first project, create code that does the following:\n",
    "1. Asks the user for their name.\n",
    "1. If the user's name is the same as your name, print `Hey, that's my name too!`\n",
    "1. If the user's name is different from yours, print `Hello, <name>!`"
   ]
  },
  {
   "cell_type": "code",
   "execution_count": null,
   "metadata": {},
   "outputs": [],
   "source": []
  },
  {
   "cell_type": "markdown",
   "metadata": {},
   "source": [
    "## Second Project\n",
    "\n",
    "Ask the user for a number, then ask whether they want to multiply this number or add this number to pi (3.14). Finally, print the result of the code."
   ]
  },
  {
   "cell_type": "code",
   "execution_count": null,
   "metadata": {},
   "outputs": [],
   "source": []
  },
  {
   "cell_type": "markdown",
   "metadata": {},
   "source": [
    "## Summary\n",
    "\n",
    "- You learned about some types of data in Python\n",
    "- You learned about strings, concatenating them and finding the character at a position in a string.\n",
    "- You learned about numbers (integers and float), comparing numbers and doing math.\n",
    "- You learned about `if` and code blocks.\n",
    "- You put all this together with material from chapter 1 to write some interactive code."
   ]
  },
  {
   "attachments": {},
   "cell_type": "markdown",
   "metadata": {},
   "source": [
    "### Solutions\n",
    "\n",
    "1. `'Kenobi' == 'Kenobi'` is always True. `'Kenobi'` is a string and strings match themselves (and only themselves.)\n",
    "2.  `Kenobi == 'Kenobi'` is sometimes True... it's True when the _variable_ `Kenobi` is assigned the string `'Kenobi'`. It's False otherwise.\n",
    "3. `Kenobi == Kenobi` is a surprise. For the most part, this will be true. However, there are some exceptional cases. An important case is what happens when you\n",
    "divide a number by zero. This is an advanced topic, but scientific computing usual defines `1 / 0` as a special type. It's `nan` (not-a-number) and \n",
    "neither greater than, nor less than nor equivalent to any real number. As such, it is not equal to itself. `nan` is part of scientific computing in Python,\n",
    "but not the standard Python operations. You can check 1 / 0 yourself below."
   ]
  },
  {
   "cell_type": "code",
   "execution_count": null,
   "metadata": {},
   "outputs": [],
   "source": [
    "1 / 0"
   ]
  }
 ],
 "metadata": {
  "interpreter": {
   "hash": "8237c846a55f6f1d281de78ecb8e50b9c8f49975088ff08d4c8243d61ebf94af"
  },
  "kernelspec": {
   "display_name": "Python 3.9.7 ('base')",
   "language": "python",
   "name": "python3"
  },
  "language_info": {
   "codemirror_mode": {
    "name": "ipython",
    "version": 3
   },
   "file_extension": ".py",
   "mimetype": "text/x-python",
   "name": "python",
   "nbconvert_exporter": "python",
   "pygments_lexer": "ipython3",
   "version": "3.10.5"
  },
  "orig_nbformat": 4
 },
 "nbformat": 4,
 "nbformat_minor": 2
}
