{
 "cells": [
  {
   "cell_type": "markdown",
   "metadata": {},
   "source": [
    "# Chapter 2: Data\n",
    "\n",
    "In this chapter, you will learn about different types of _data_ in Python. You will also combine this information from chapter 1."
   ]
  },
  {
   "cell_type": "markdown",
   "metadata": {},
   "source": [
    "## Strings\n",
    "Strings are data that is text: letters, punctuation marks, spaces, and numerals. Strings in Python are wrapped in `'` or `\"`. You actually learned a lot about strings in chapter 1.\n",
    "\n",
    "Strings can be combined using the `+` operator. This joins two strings into a single new string. This is called _concatenation_."
   ]
  },
  {
   "cell_type": "code",
   "execution_count": 1,
   "metadata": {},
   "outputs": [
    {
     "data": {
      "text/plain": [
       "'<first name><last_name>'"
      ]
     },
     "execution_count": 1,
     "metadata": {},
     "output_type": "execute_result"
    }
   ],
   "source": [
    "# try it out. Fix up the following strings to print your whole name:\n",
    "'<first name>' + '<last_name>'"
   ]
  },
  {
   "cell_type": "markdown",
   "metadata": {},
   "source": [
    "You may have just learned that Python is _very literal_: if you didn't include a space, Python put your first name right next to your last name with no space in between. Python can concatenate more than one string at a time."
   ]
  },
  {
   "cell_type": "code",
   "execution_count": null,
   "metadata": {},
   "outputs": [],
   "source": [
    "# try it out:\n",
    "\"My \" + \"name \" + \"is \" + \"<first name>\" + ' ' + '<last_name>' + '.'"
   ]
  },
  {
   "cell_type": "markdown",
   "metadata": {},
   "source": [
    "If you want to get a new line in a string, use `\\n`. However, you need to `print` the string to see the new line. `\\n` is a special character that a print command knows how to read."
   ]
  },
  {
   "cell_type": "code",
   "execution_count": 11,
   "metadata": {},
   "outputs": [
    {
     "name": "stdout",
     "output_type": "stream",
     "text": [
      "Start here but \n",
      "end here.\n"
     ]
    }
   ],
   "source": [
    "print(\"Start here but \\nend here.\")"
   ]
  },
  {
   "cell_type": "markdown",
   "metadata": {},
   "source": [
    "`\\` is used for some special types of text data found in strings, such as `\\n`, which is a new line character. It is also an \"escape character\" which means that it tells Python to ignore a special character. Suppose you want to print the sentence `\\n is a newline character in Python.` What do you think will happen if you try to print this? "
   ]
  },
  {
   "cell_type": "code",
   "execution_count": 15,
   "metadata": {},
   "outputs": [
    {
     "name": "stdout",
     "output_type": "stream",
     "text": [
      "\n",
      " is  a a newline character in Python.\n"
     ]
    }
   ],
   "source": [
    "print(\"\\n is a newline character in Python.\")"
   ]
  },
  {
   "cell_type": "code",
   "execution_count": 16,
   "metadata": {},
   "outputs": [
    {
     "name": "stdout",
     "output_type": "stream",
     "text": [
      "\\n is a newline character in Python.\n"
     ]
    }
   ],
   "source": [
    "print(\"\\\\n is a newline character in Python.\")"
   ]
  },
  {
   "cell_type": "markdown",
   "metadata": {},
   "source": [
    "Strings know the positions of their characters. You can get the character at a position in a string. Try out the cell below:"
   ]
  },
  {
   "cell_type": "code",
   "execution_count": 17,
   "metadata": {},
   "outputs": [
    {
     "data": {
      "text/plain": [
       "'c'"
      ]
     },
     "execution_count": 17,
     "metadata": {},
     "output_type": "execute_result"
    }
   ],
   "source": [
    "\"What do you think the 27th character in this string is?\"[27]"
   ]
  },
  {
   "cell_type": "markdown",
   "metadata": {},
   "source": [
    "`[27]` is an _index_ on the string. It finds the character in position 27. __BUT__ position 27 is not what you think. Try getting the first letter of your name by entering your name and adding an index below:"
   ]
  },
  {
   "cell_type": "code",
   "execution_count": null,
   "metadata": {},
   "outputs": [],
   "source": [
    "# add your name and get the first letter with an index:\n",
    "'<code>'"
   ]
  },
  {
   "cell_type": "markdown",
   "metadata": {},
   "source": [
    "I bet it printed the second letter of your name! You probably put something like `'Maria'[1]` and it returned `a`. Try adding the index `[0]` to the code you did above. It will give the first letter.\n",
    "\n",
    "In Python and almost all computer languages, the first thing in a sequence is 0, not 1. "
   ]
  },
  {
   "cell_type": "markdown",
   "metadata": {},
   "source": [
    "## Numbers\n",
    "\n",
    "Python understands numbers. If Python encoutners `3.1415169` or `30` or another collection of digits, it will treat that as a number. You can also add with `+`, subtract `-`, multiply with `*` and divide `/` in Python. You can also do greater than `>`, less than `>`, equal to `==`, greater than or equal `>=` and less than or equal to`<=`. Try it in the cell below.\n"
   ]
  },
  {
   "cell_type": "code",
   "execution_count": 2,
   "metadata": {},
   "outputs": [
    {
     "data": {
      "text/plain": [
       "1.333777"
      ]
     },
     "execution_count": 2,
     "metadata": {},
     "output_type": "execute_result"
    }
   ],
   "source": [
    "# Try some math and compare some numbers.\n"
   ]
  },
  {
   "cell_type": "markdown",
   "metadata": {},
   "source": [
    "If you put quotes around digits, like `\"3.14\"` Python will treat this as a string. \n",
    "\n",
    "There are actually two kinds of numbers in python, _integers_ and _floats_. Integers are numbers like 1, 0, -57 and 1000000: any number without a decimal part. If it has a decimal part, like .1, or 3.1415169 it is a float. \n",
    "\n",
    "You can't put a comma in a Python number (`SyntaxError`) but you can add an underscore `_` to make things more readable. `1_000_000` is one million."
   ]
  },
  {
   "cell_type": "markdown",
   "metadata": {},
   "source": [
    "## True and False\n",
    "\n",
    "Python has the values `True` and `False` as well. These are values that say whether something is true. If you enter `100 == 1` you get a `False` because this is not a true statement. If you do `100 > 1` you get `True`. Python also allows you to combine statements (or Boolean values) with special key words `and`, `or` and `not`."
   ]
  },
  {
   "cell_type": "code",
   "execution_count": 1,
   "metadata": {},
   "outputs": [
    {
     "data": {
      "text/plain": [
       "True"
      ]
     },
     "execution_count": 1,
     "metadata": {},
     "output_type": "execute_result"
    }
   ],
   "source": [
    "# Check it out:\n",
    "not 100 < 1"
   ]
  }
 ],
 "metadata": {
  "interpreter": {
   "hash": "8237c846a55f6f1d281de78ecb8e50b9c8f49975088ff08d4c8243d61ebf94af"
  },
  "kernelspec": {
   "display_name": "Python 3.9.7 ('base')",
   "language": "python",
   "name": "python3"
  },
  "language_info": {
   "codemirror_mode": {
    "name": "ipython",
    "version": 3
   },
   "file_extension": ".py",
   "mimetype": "text/x-python",
   "name": "python",
   "nbconvert_exporter": "python",
   "pygments_lexer": "ipython3",
   "version": "3.9.7"
  },
  "orig_nbformat": 4
 },
 "nbformat": 4,
 "nbformat_minor": 2
}
